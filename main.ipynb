{
 "cells": [
  {
   "cell_type": "code",
   "execution_count": 1,
   "metadata": {},
   "outputs": [],
   "source": [
    "import pandas as pd \n",
    "import re\n",
    "\n",
    "\n",
    "filePath = \"decisao.xlsx\""
   ]
  },
  {
   "cell_type": "code",
   "execution_count": 2,
   "metadata": {},
   "outputs": [],
   "source": [
    "# df1 = pd.read_excel(filePath, sheet_name=\"Planilha1\")\n",
    "# df2 = pd.read_excel(filePath, sheet_name=\"Pauta Julgamento\")\n",
    "df3 = pd.read_excel(filePath)"
   ]
  },
  {
   "cell_type": "code",
   "execution_count": null,
   "metadata": {},
   "outputs": [],
   "source": [
    "termos = {\"cump_obrigacao\": \"se manifestar no prazo de 15 \\(quinze\\) dias, sobre o cumprimento da obrigaÃ§Ã£o|se manifestar no prazo de 15 dias, sobre o cumprimento da obrigaÃ§Ã£o\",\n",
    "          \"exceção\": \"Intime-se a parte autora para se manifestar no prazo de 05|se manifestar no prazo de 05 \\(cinco\\) dias|se manifestar no prazo de cinco dias\",\n",
    "      \"cr_embargos\": \"contrarrazoar os Embargos de DeclaraÃ§Ã£o|manifestar-se sobre os embargos de declaracao\",\n",
    "          \"retorno_autos\": \"partes do retorno dos autos\",\n",
    "           \"procedente\": \"julgo procedente\",\n",
    "           \"improcedente\": \"julgo improcedente\",\n",
    "          \"contrarrazoes ri\": \"encaminhem-se os autos para a Turma Recursal\",\n",
    "          \"cr_rext\": \"contrarrazoar o Recurso Ex\",\n",
    "          \"pedido sustencatcao\": \"pedido de sustentaÃ§Ã£o oral\",\n",
    "          \"desarquivamento\": \"desarquivamento\",\n",
    "        \"desistencia_da_acao\": \"por sentenÃ§a, a desistÃªncia\",\n",
    "        \"homologo_valor_exec\":\"HOMOLOGO o valor da execuÃ§Ã£o em \",\n",
    "        \"declinar_competencia\":\"DECLINAR DA COMPETENCIA\", \n",
    "        \"manifestar_sobre_impugnacao\": \"manifestar sobre a impugnaÃ§Ã£o ao cumprimento da sentenÃ§a\",\n",
    "\"apresentar_calculos\": \"nÃ£o admite sentenÃ§a ilÃ­quida, devendo a parte autora apresentar de logo a planilha de cÃ¡lculo\",\n",
    "\"suspensao_audiencia\":\"nÃ£o desejam a conciliaÃ§Ã£o, por ordem do Dr\\. Juiz desta Unidade, fica suspensa a audiÃªncia\",\n",
    "\"extinção_SRM\": \"julgo extinto o processo, sem julgamento do m|EXTINGO O PROCESSO SEM JULGAMENTO DE M|julgo EXTINTO o feito sem apreciacao do merito|julgo EXTINTO o feito, sem julgamento do mÃ©rito\",\n",
    "\"produção de provas\": \"desejo ou nÃ£o de produÃ§Ã£o de provas em audiÃªncia de instruÃ§Ã£o\",\n",
    "\"renuncia_teto_rpv\": \"Dado a renuncia manifestada nos autos, processe o pagamento do crÃ©dito devido em forma de RPV limitado ao teto legal do ente pÃºblico acionado\",\n",
    "\"informar_demais_acoes\": \"deste sistema onde busca o mesmo beneficio pecuniario|informe a parte autora, no prazo de dez dias, sobre eventuais pedidos semelhantes jÃ¡ ajuizados\",\n",
    "\"int_sentenca\": \"ficam as partes intimadas do teor da SentenÃ§a proferida\",\n",
    "\"julgo_parc_procedente\": \"JULGO PARCIALMENTE PROCEDENTE\",\n",
    "\"protocolar_precatorio\":\"fica a parte Exequente intimada para promover o protocolamento do PrecatÃ³rio\",\n",
    "\"arquive-se_com_baixa\":  \"arquive-se com baixa\",\n",
    "\"audiencia_conciliacao\": \"comparecer a Audiencia de Conciliacao designada para o dia|comparecer Ã\\xa0 AUDIÃ\\x8aNCIA DE CONCILIAÃ\\x87Ã\\x83O designada\",\n",
    "\"redesignacao\": \"redesignacao da AUDIENCIA DE CONCILIACAO|comparecer Ã\\xa0 AUDIÃ\\x8aNCIA DE CONCILIAÃ\\x87Ã\\x83O redesignada\",\n",
    "'apresentar_rendimentos':'Apresente a parte autora, no prazo de 05 dias, informe de rendimentos',\n",
    "'prazo_prorrogado_15':'Prazo prorrogado por mais 15 dias|Prazo prorrogado por mais 15 \\(quinze\\) dias|Prazo prorrogado por mais quinze dias',\n",
    "'negada_liminar': 'DENEGO A TUTELA DE URGÃ\\x8aNCIA PRETENDIDA',\n",
    "\"apresentar_contracheque\": \"promover a apresentaÃ§Ã£o do seu contracheque atualizado\",\n",
    "\"precatorio\" : \"informacoes necessarias a instrucao do Formulario de Precatorio\",\n",
    "\"dar_provimento_recurso\": \"SENTENCA PARCIALMENTE REFORMADA.+CONHECER e DAR PROVIMENTO PARCIAL AO RECURSO|SENTENCA PARCIALMENTE REFORMADA.+CONHECER e DAR PARCIAL PROVIMENTO AO RECURSO|voto no sentido de CONHECER E DAR PROVIMENTO PARCIAL ao recurso|voto no sentido de CONHECER E DAR PARCIAL PROVIMENTO ao recurso\",\n",
    "\"gratuidade_justica\": \"no prazo de 15 \\(quinze\\) dias comprovar a necessidade a fim de que seja apreciado|no prazo de 15 dias comprovar a necessidade a fim de que seja apreciado|no prazo de quinze dias comprovar a necessidade a fim de que seja apreciado\",\n",
    "\"audiencia_web\": \"a audiencia ocorrera por videoconferencia, por meio do aplicativo Lifesize\",\n",
    "\"prescrição\": \"reconheÃ§o a prescriÃ§Ã£o do direito\",\n",
    "\"negar_seguimento\": \"DECIDO no sentido de NEGAR SEGUIMENTO AO RECURSO INOMINADO\"\n",
    "          }\n"
   ]
  },
  {
   "cell_type": "markdown",
   "metadata": {},
   "source": [
    "## FUNCAO PEGA TERMOS"
   ]
  },
  {
   "cell_type": "code",
   "execution_count": null,
   "metadata": {},
   "outputs": [
    {
     "ename": "KeyboardInterrupt",
     "evalue": "",
     "output_type": "error",
     "traceback": [
      "\u001b[0;31m---------------------------------------------------------------------------\u001b[0m",
      "\u001b[0;31mKeyboardInterrupt\u001b[0m                         Traceback (most recent call last)",
      "\u001b[1;32m/home/linux/falcao_rios/main.ipynb Cell 5\u001b[0m in \u001b[0;36m<cell line: 4>\u001b[0;34m()\u001b[0m\n\u001b[1;32m      <a href='vscode-notebook-cell://wsl%2Bubuntu/home/linux/falcao_rios/main.ipynb#W4sdnNjb2RlLXJlbW90ZQ%3D%3D?line=2'>3</a>\u001b[0m atual \u001b[39m=\u001b[39m \u001b[39m0\u001b[39m\n\u001b[1;32m      <a href='vscode-notebook-cell://wsl%2Bubuntu/home/linux/falcao_rios/main.ipynb#W4sdnNjb2RlLXJlbW90ZQ%3D%3D?line=3'>4</a>\u001b[0m \u001b[39mfor\u001b[39;00m index, row \u001b[39min\u001b[39;00m df3\u001b[39m.\u001b[39miterrows():\n\u001b[0;32m----> <a href='vscode-notebook-cell://wsl%2Bubuntu/home/linux/falcao_rios/main.ipynb#W4sdnNjb2RlLXJlbW90ZQ%3D%3D?line=4'>5</a>\u001b[0m     r \u001b[39m=\u001b[39m re\u001b[39m.\u001b[39msearch(re\u001b[39m.\u001b[39mcompile(termos[\u001b[39m'\u001b[39m\u001b[39mnegar_seguimento\u001b[39m\u001b[39m'\u001b[39m]\u001b[39m.\u001b[39mlower()), row[\u001b[39m'\u001b[39;49m\u001b[39mteor\u001b[39;49m\u001b[39m'\u001b[39;49m]\u001b[39m.\u001b[39;49mlower())\n\u001b[1;32m      <a href='vscode-notebook-cell://wsl%2Bubuntu/home/linux/falcao_rios/main.ipynb#W4sdnNjb2RlLXJlbW90ZQ%3D%3D?line=5'>6</a>\u001b[0m     \u001b[39mif\u001b[39;00m r \u001b[39m!=\u001b[39m \u001b[39mNone\u001b[39;00m:\n\u001b[1;32m      <a href='vscode-notebook-cell://wsl%2Bubuntu/home/linux/falcao_rios/main.ipynb#W4sdnNjb2RlLXJlbW90ZQ%3D%3D?line=6'>7</a>\u001b[0m         \u001b[39mbreak\u001b[39;00m\n",
      "\u001b[0;31mKeyboardInterrupt\u001b[0m: "
     ]
    }
   ],
   "source": [
    "total = 0\n",
    "# for value in termos['negar_seguimento']:\n",
    "atual = 0\n",
    "for index, row in df3.iterrows():\n",
    "    r = re.search(re.compile(termos['negar_seguimento'].lower()), row['teor'].lower())\n",
    "    if r != None:\n",
    "        break\n",
    "        atual +=1\n",
    "        total += 1\n",
    "print(f\"contagem:{atual}, {termos['negar_seguimento']}\")\n",
    "print(f\"Total:{total}\")\n"
   ]
  },
  {
   "cell_type": "code",
   "execution_count": null,
   "metadata": {},
   "outputs": [],
   "source": [
    "import json \n",
    "import pandas as pd\n",
    "\n",
    "class publicacao:\n",
    "    def __init__(self):\n",
    "        self.termosPadrao = self.load_termos(\"termos\")\n",
    "\n",
    "    def busca_termos(self, publicacao:str, termos=None):\n",
    "        if termos is None: termos = self.termosPadrao\n",
    "        for key, value in termos.items():\n",
    "            r = re.search(re.compile(value.lower()), publicacao.lower())\n",
    "            if r:\n",
    "                return key\n",
    "        return False\n",
    "\n",
    "    def update_json(self, key:str, value:str):\n",
    "        novoTermo = {key : value}\n",
    "        ## REGRA DE VERIFICACAO \n",
    "        if not self.verificar_keys(key): \n",
    "            return \"Key Cadastrada.\"\n",
    "        if not self.verificar_value(publicacao=publicacao, novoTermo=novoTermo):\n",
    "            return \"Termo não encontrado na publicação informada.\"\n",
    "        # self.teste_novoTermo()\n",
    "        ## SALVAR ##\n",
    "\n",
    "    def verificar_keys(self, key:str):\n",
    "        if key in self.termosPadrao.keys():\n",
    "            return False\n",
    "        return True\n",
    "\n",
    "    def verificar_value(self, publicacao:str, novoTermo):\n",
    "        if self.busca_termos(publicacao=publicacao, termos=novoTermo):\n",
    "            return True\n",
    "        return False\n",
    "\n",
    "    \n",
    "    def teste_novoTermo(self, novo_termo):\n",
    "        df = self.publicacao_padrao()\n",
    "        for index, row in df.iterrows():\n",
    "            self.busca_termos(publicacao=row['teor'], termos=novo_termo)\n",
    "\n",
    "    def publicacao_padrao(self):\n",
    "        return pd.read_excel(\"decisao.xlsx\")\n",
    "\n",
    "    def load_termos(self, arquivo):\n",
    "        f = open(arquivo + \".json\")\n",
    "        termos = json.load(f)\n",
    "        return termos\n",
    "\n",
    "    \n",
    "\n",
    "\n",
    "        \n",
    "\n",
    "\n",
    "\n",
    "\n",
    "\n",
    "        "
   ]
  },
  {
   "cell_type": "code",
   "execution_count": null,
   "metadata": {},
   "outputs": [],
   "source": [
    "\n",
    "total = 0\n",
    "falso = 0 \n",
    "for index, row in df3.iterrows():\n",
    "    client = publicacao()\n",
    "    key = client.busca_termos(text=row['teor'])\n",
    "    if key != 'Não foi encontrado nada':\n",
    "        break\n"
   ]
  },
  {
   "cell_type": "code",
   "execution_count": null,
   "metadata": {},
   "outputs": [
    {
     "data": {
      "text/plain": [
       "'dar_provimento_recurso'"
      ]
     },
     "execution_count": 103,
     "metadata": {},
     "output_type": "execute_result"
    }
   ],
   "source": [
    "\n",
    "key"
   ]
  },
  {
   "cell_type": "code",
   "execution_count": null,
   "metadata": {},
   "outputs": [],
   "source": []
  },
  {
   "cell_type": "code",
   "execution_count": null,
   "metadata": {},
   "outputs": [],
   "source": []
  },
  {
   "cell_type": "code",
   "execution_count": null,
   "metadata": {},
   "outputs": [],
   "source": []
  },
  {
   "cell_type": "code",
   "execution_count": null,
   "metadata": {},
   "outputs": [
    {
     "name": "stdout",
     "output_type": "stream",
     "text": [
      "contagem:0, DECIDO no sentido de NEGAR SEGUIMENTO À APELAÇÃO\n",
      "Total:0\n"
     ]
    }
   ],
   "source": [
    "atual = 0\n",
    "total = 0\n",
    "f = \"DECIDO no sentido de NEGAR SEGUIMENTO À APELAÇÃO\"\n",
    "\n",
    "for index, row in df3.iterrows():\n",
    "    r = re.search(re.compile(f.upper()), row['teor'].upper())\n",
    "    if r != None:\n",
    "        atual +=1\n",
    "        total += 1\n",
    "print(f\"contagem:{atual}, {f}\")\n",
    "print(f\"Total:{total}\")\n"
   ]
  },
  {
   "cell_type": "code",
   "execution_count": null,
   "metadata": {},
   "outputs": [
    {
     "name": "stdout",
     "output_type": "stream",
     "text": [
      "<re.Match object; span=(538, 596), match='Intime-se a parte autora para se manifestar no pr>\n"
     ]
    }
   ],
   "source": [
    "f = \"Intime-se a parte autora para se manifestar no prazo de 15\"\n",
    "\n",
    "print(re.search(re.compile(f), df3.iloc[29184]['teor']))"
   ]
  },
  {
   "cell_type": "code",
   "execution_count": null,
   "metadata": {},
   "outputs": [
    {
     "data": {
      "text/plain": [
       "re.compile(r'Intime-se a parte autora para se manifestar no prazo de 15 (quinze) dias, sobre o cumprimento da obrigaÃ§Ã£o',\n",
       "           re.UNICODE)"
      ]
     },
     "execution_count": 17,
     "metadata": {},
     "output_type": "execute_result"
    }
   ],
   "source": [
    "re.compile(f)"
   ]
  },
  {
   "cell_type": "code",
   "execution_count": 15,
   "metadata": {},
   "outputs": [],
   "source": [
    "total = 0\n",
    "f = dict()\n",
    "for index, row in df3.iterrows():\n",
    "\n",
    "    total += 1\n",
    "    f.update({total: row['teor']})\n",
    "    if total == 11: \n",
    "        break\n",
    "\n",
    "\n",
    "    # processo = re.search(re.compile(\"\\d{7}[\\-|\\.]?\\d{2}\\.?\\d{4}\\.?\\d\\.?\\d{2}\\.?\\d{4}\"), row['teor'].upper())\n",
    "    # processo.span()[1] + 26 \n",
    "    # text = row['teor'].upper()\n",
    "    # juri = row['teor'][processo.span()[1]:text.find('Jurisdicao')]\n",
    "\n",
    "\n"
   ]
  },
  {
   "cell_type": "code",
   "execution_count": null,
   "metadata": {},
   "outputs": [],
   "source": [
    "import json\n",
    "with open('result.json', 'w') as fp:\n",
    "    json.dump(f, fp)\n"
   ]
  },
  {
   "cell_type": "code",
   "execution_count": null,
   "metadata": {},
   "outputs": [
    {
     "ename": "NameError",
     "evalue": "name 'r' is not defined",
     "output_type": "error",
     "traceback": [
      "\u001b[0;31m---------------------------------------------------------------------------\u001b[0m",
      "\u001b[0;31mNameError\u001b[0m                                 Traceback (most recent call last)",
      "\u001b[1;32m/home/linux/falcao_rios/main.ipynb Cell 4\u001b[0m in \u001b[0;36m<cell line: 1>\u001b[0;34m()\u001b[0m\n\u001b[0;32m----> <a href='vscode-notebook-cell://wsl%2Bubuntu/home/linux/falcao_rios/main.ipynb#X15sdnNjb2RlLXJlbW90ZQ%3D%3D?line=0'>1</a>\u001b[0m r\n",
      "\u001b[0;31mNameError\u001b[0m: name 'r' is not defined"
     ]
    }
   ],
   "source": []
  },
  {
   "cell_type": "code",
   "execution_count": 116,
   "metadata": {},
   "outputs": [
    {
     "name": "stdout",
     "output_type": "stream",
     "text": [
      "contagem:0, DECIDO no sentido de NEGAR SEGUIMENTO AO RECURSO INOMINADO\n",
      "Total:0\n"
     ]
    }
   ],
   "source": [
    "total = 0\n",
    "# for value in termos['negar_seguimento']:\n",
    "atual = 0\n",
    "for index, row in df3.iterrows():\n",
    "    r = re.search(re.compile(termos['negar_seguimento'].lower()), row['teor'].lower())\n",
    "    if r != None:\n",
    "        break\n",
    "        atual +=1\n",
    "        total += 1\n",
    "print(f\"contagem:{atual}, {termos['negar_seguimento']}\")\n",
    "print(f\"Total:{total}\")"
   ]
  },
  {
   "cell_type": "code",
   "execution_count": null,
   "metadata": {},
   "outputs": [],
   "source": []
  },
  {
   "cell_type": "code",
   "execution_count": null,
   "metadata": {},
   "outputs": [],
   "source": []
  },
  {
   "cell_type": "code",
   "execution_count": null,
   "metadata": {},
   "outputs": [],
   "source": []
  },
  {
   "cell_type": "code",
   "execution_count": null,
   "metadata": {},
   "outputs": [],
   "source": []
  },
  {
   "cell_type": "code",
   "execution_count": null,
   "metadata": {},
   "outputs": [],
   "source": []
  },
  {
   "cell_type": "code",
   "execution_count": null,
   "metadata": {},
   "outputs": [],
   "source": []
  },
  {
   "cell_type": "code",
   "execution_count": null,
   "metadata": {},
   "outputs": [],
   "source": []
  },
  {
   "cell_type": "code",
   "execution_count": null,
   "metadata": {},
   "outputs": [],
   "source": []
  },
  {
   "cell_type": "code",
   "execution_count": null,
   "metadata": {},
   "outputs": [],
   "source": []
  },
  {
   "cell_type": "code",
   "execution_count": null,
   "metadata": {},
   "outputs": [],
   "source": []
  },
  {
   "cell_type": "code",
   "execution_count": null,
   "metadata": {},
   "outputs": [],
   "source": []
  },
  {
   "cell_type": "markdown",
   "metadata": {},
   "source": [
    "## TENTANDO FAZER IA"
   ]
  },
  {
   "cell_type": "code",
   "execution_count": null,
   "metadata": {},
   "outputs": [
    {
     "name": "stderr",
     "output_type": "stream",
     "text": [
      "2022-11-23 22:40:51.085780: I tensorflow/core/platform/cpu_feature_guard.cc:193] This TensorFlow binary is optimized with oneAPI Deep Neural Network Library (oneDNN) to use the following CPU instructions in performance-critical operations:  AVX2 AVX512F AVX512_VNNI FMA\n",
      "To enable them in other operations, rebuild TensorFlow with the appropriate compiler flags.\n"
     ]
    },
    {
     "name": "stdout",
     "output_type": "stream",
     "text": [
      "tf.Tensor(\n",
      "[[ 0.06318799  0.07063901 -0.05998802 ... -0.01409876  0.01863451\n",
      "   0.01505797]\n",
      " [-0.06786213  0.01993555  0.03236153 ...  0.05772104  0.01787271\n",
      "   0.01740013]\n",
      " [ 0.05379309  0.07613157 -0.05256691 ... -0.01256405  0.02131961\n",
      "  -0.00262437]], shape=(3, 512), dtype=float32)\n"
     ]
    }
   ],
   "source": [
    "import tensorflow_hub as hub\n",
    "\n",
    "embed = hub.load(\"https://tfhub.dev/google/universal-sentence-encoder/4\")\n",
    "embeddings = embed([\n",
    "    \"the person wear red T-shirt\",\n",
    "    \"this person is walking\",\n",
    "    \"the boy wear red T-shirt\"\n",
    "    ])\n",
    "\n",
    "print(embeddings)"
   ]
  },
  {
   "cell_type": "code",
   "execution_count": null,
   "metadata": {},
   "outputs": [
    {
     "name": "stdout",
     "output_type": "stream",
     "text": [
      "oi1\n",
      "\n",
      "oi\n"
     ]
    },
    {
     "ename": "AttributeError",
     "evalue": "module 'tensorflow' has no attribute 'placeholder'",
     "output_type": "error",
     "traceback": [
      "\u001b[0;31m---------------------------------------------------------------------------\u001b[0m",
      "\u001b[0;31mAttributeError\u001b[0m                            Traceback (most recent call last)",
      "\u001b[1;32m/home/linux/falcao_rios/main.ipynb Cell 4\u001b[0m in \u001b[0;36m<cell line: 25>\u001b[0;34m()\u001b[0m\n\u001b[1;32m     <a href='vscode-notebook-cell://wsl%2Bubuntu/home/linux/falcao_rios/main.ipynb#X14sdnNjb2RlLXJlbW90ZQ%3D%3D?line=10'>11</a>\u001b[0m messages \u001b[39m=\u001b[39m [\n\u001b[1;32m     <a href='vscode-notebook-cell://wsl%2Bubuntu/home/linux/falcao_rios/main.ipynb#X14sdnNjb2RlLXJlbW90ZQ%3D%3D?line=11'>12</a>\u001b[0m \u001b[39m# Smartphones\u001b[39;00m\n\u001b[1;32m     <a href='vscode-notebook-cell://wsl%2Bubuntu/home/linux/falcao_rios/main.ipynb#X14sdnNjb2RlLXJlbW90ZQ%3D%3D?line=12'>13</a>\u001b[0m \u001b[39m\"\u001b[39m\u001b[39mMy phone is not good.\u001b[39m\u001b[39m\"\u001b[39m,\n\u001b[0;32m   (...)\u001b[0m\n\u001b[1;32m     <a href='vscode-notebook-cell://wsl%2Bubuntu/home/linux/falcao_rios/main.ipynb#X14sdnNjb2RlLXJlbW90ZQ%3D%3D?line=21'>22</a>\u001b[0m \u001b[39m\"\u001b[39m\u001b[39mEating strawberries is healthy\u001b[39m\u001b[39m\"\u001b[39m,\n\u001b[1;32m     <a href='vscode-notebook-cell://wsl%2Bubuntu/home/linux/falcao_rios/main.ipynb#X14sdnNjb2RlLXJlbW90ZQ%3D%3D?line=22'>23</a>\u001b[0m ]\n\u001b[1;32m     <a href='vscode-notebook-cell://wsl%2Bubuntu/home/linux/falcao_rios/main.ipynb#X14sdnNjb2RlLXJlbW90ZQ%3D%3D?line=23'>24</a>\u001b[0m \u001b[39mprint\u001b[39m(\u001b[39m'\u001b[39m\u001b[39moi\u001b[39m\u001b[39m'\u001b[39m)\n\u001b[0;32m---> <a href='vscode-notebook-cell://wsl%2Bubuntu/home/linux/falcao_rios/main.ipynb#X14sdnNjb2RlLXJlbW90ZQ%3D%3D?line=24'>25</a>\u001b[0m similarity_input_placeholder \u001b[39m=\u001b[39m tf\u001b[39m.\u001b[39;49mplaceholder(tf\u001b[39m.\u001b[39mstring, shape\u001b[39m=\u001b[39m(\u001b[39mNone\u001b[39;00m))\n\u001b[1;32m     <a href='vscode-notebook-cell://wsl%2Bubuntu/home/linux/falcao_rios/main.ipynb#X14sdnNjb2RlLXJlbW90ZQ%3D%3D?line=25'>26</a>\u001b[0m similarity_message_encodings \u001b[39m=\u001b[39m embed(similarity_input_placeholder)\n\u001b[1;32m     <a href='vscode-notebook-cell://wsl%2Bubuntu/home/linux/falcao_rios/main.ipynb#X14sdnNjb2RlLXJlbW90ZQ%3D%3D?line=26'>27</a>\u001b[0m \u001b[39mprint\u001b[39m(similarity_message_encodings)\n",
      "\u001b[0;31mAttributeError\u001b[0m: module 'tensorflow' has no attribute 'placeholder'"
     ]
    }
   ],
   "source": [
    "import tensorflow_hub as hub\n",
    "import tensorflow as tf\n",
    "import numpy as np\n",
    "embed = hub.load(\"https://tfhub.dev/google/universal-sentence-encoder/4\")\n",
    "\n",
    "print('oi1')\n",
    "# Import the Universal Sentence Encoder's TF Hub module\n",
    "\n",
    "print()\n",
    "# sample text\n",
    "messages = [\n",
    "# Smartphones\n",
    "\"My phone is not good.\",\n",
    "\"Your cellphone looks great.\",\n",
    "\n",
    "# Weather\n",
    "\"Will it snow tomorrow?\",\n",
    "\"Recently a lot of hurricanes have hit the US\",\n",
    "\n",
    "# Food and health\n",
    "\"An apple a day, keeps the doctors away\",\n",
    "\"Eating strawberries is healthy\",\n",
    "]\n",
    "print('oi')\n",
    "similarity_input_placeholder = tf.placeholder(tf.string, shape=(None))\n",
    "similarity_message_encodings = embed(similarity_input_placeholder)\n",
    "print(similarity_message_encodings)\n",
    "with tf.Session() as session:\n",
    "    session.run(tf.global_variables_initializer())\n",
    "    session.run(tf.tables_initializer())\n",
    "    message_embeddings_ = session.run(similarity_message_encodings, feed_dict={similarity_input_placeholder: messages})\n",
    "\n",
    "    corr = np.inner(message_embeddings_, message_embeddings_)\n",
    "    print(corr)\n"
   ]
  },
  {
   "cell_type": "code",
   "execution_count": null,
   "metadata": {},
   "outputs": [
    {
     "name": "stdout",
     "output_type": "stream",
     "text": [
      "Pauta Julgamento abaixo:    8010050-04.2018.8.05.0001 Recurso Inominado Jurisdicao: 6Âª Turma Recursal  (cadastro De Recursos - Juizados Especiais Da Fazenda Publica E Juizados  Adjuntos) Recorrente: Alice Valentim De Souza Advogado: ANTONIO JORGE  FALCAO RIOS (OAB: 5335200A/BA) Recorrido: Estado Da Bahia Representante:  Procuradoria Geral Do Estado -] Intimacao: PODER JUDICIARIO TRIBUNAL DE  JUSTICA DO ESTADO DA BAHIA 6Âª Turma Recursal Processo: RECURSO INOMINADO n.  8010050-04.2018.8.05.0001 Orgao Julgador: 6Âª Turma Recursal RECORRENTE:  ALICE VALENTIM DE SOUZA Advogado (s): ANTONIO JORGE FALCAO RIOS  RECORRIDO: ESTADO DA BAHIA Advogado (s): ACORDAO RECURSOS INOMINADOS  SIMULTANEOS. JUIZADO ESPECIAL DA FAZENDA PUBLICA. UTILIZACAO DE IPCA-E COMO  INDICE DE CORRECAO MONETARIA CONTRA A FAZENDA PUBLICA. POSSIBILIDADE.  CONDENACAO JUDICIAL REFERENTE A SERVIDOR PUBLICO. PRECEDENTES DO STJ.  RECURSO REPETITIVO. RESP 1.492.221/PR. CALCULO DA LICENCA PREMIO COM  EXCLUSAO DE PARCELAS DE CARATER EVENTAL E INCLUSAO DE PARCELAS DE CARATER  PERMANENTE. RECURSO DA PARTE RE CONHECIDO E NAO PROVIDO. RECURSO DA PARTE  AUTORA CONHECIDO E PROVIDO. Vistos, relatados e discutidos estes autos de  n. 8010050-04.2018.8.05.0001, em que figuram como apelante ALICE VALENTIM  DE SOUZA e como apelada ESTADO DA BAHIA. ACORDAM os magistrados integrantes  da 6Âª Turma Recursal do Estado da Bahia, por UNANIMIDADE, em CONHECER E DAR  PROVIMENTO AO RECURSO DA PARTE AUTORA E CONHECER E NEGAR PROVIMENTO AO  RECURSO DA PARTE RE, nos termos do voto do relator. Salvador, . PODER  JUDICIARIO TRIBUNAL DE JUSTICA DO ESTADO DA BAHIA 6Âª TURMA RECURSAL DECISAO  PROCLAMADA Recursos simultaneos Por Unanimidade Salvador, 27 de Junho de  2019. PODER JUDICIARIO TRIBUNAL DE JUSTICA DO ESTADO DA BAHIA 6Âª Turma  Recursal Processo: RECURSO INOMINADO n. 8010050-04.2018.8.05.0001 Orgao  Julgador: 6Âª Turma Recursal RECORRENTE: ALICE VALENTIM DE SOUZA Advogado  (s): ANTONIO JORGE FALCAO RIOS RECORRIDO: ESTADO DA BAHIA Advogado (s):  RELATORIO Dispensado o relatorio nos termos do artigo 46 da Lei n.Âº  9.099/95. Salvador/BA, 4 de junho de 2019. Paulo Cesar Bandeira de Melo  Jorge 1Âº Julgador da 6Âª Turma Recursal Relator VOTO Defiro os beneficios da  justica gratuita a Alice de Souza e conheco dos recursos, pois preenchidos  os pressupostos de admis- sibilidade. Com razao a parte autora ao alegar  que quando da conversao da licenca premio em pecunia devem ser excluidas as  verbas de carater indenizatorio ou eventuais do valor a ser pago pelo reu a  titulo de indenizacao. Devem ser incluidas as parcelas constantes no  contracheque de ID 3611653 pagas sob os titulos: VENCIMENTO, ATIV CLASS, VP  LEI7250, GRAT.PROF, AD.T.SERV, AVANCO e AB PERMAN, posto que parcelas de  carater permanente. As parcelas acima citadas representam vantagem  pecuniaria nao eventual e componente da remuneracao do servidor, por isso  devem compor a base de calculo da licenca-premio indenizada. De referencia  aos argumentos despendidos pelo Estado da Bahia quanto a modulacao dos  efeitos da decisao proferida nos autos do RE 870947/SE, formulados por  alguns entes federativos estaduais, passo a expor. A materia relacionada a  modulacao dos efeitos ainda nao foi julgada pelo Plenario do STF, apenas o  Relator, Min. Luiz Fux, em 24/09/2018, deferiu &quot;excepcionalmente efeito  suspensivo aos embargos de declaracao opostos pelos entes federativos  estadu- ais, com fundamento no art. 1026, Â§1Âº, do CPC c/c o art. 21, V, do  RISTF&quot;. Logo, os efeitos praticos da referida decisao conduz apenas a  suspensao da eficacia do julgamento de merito da repercussao geral do RE  870947/SE, o que implica no consectario logico de autorizacao as instancias  inferiores a proceder ao julgamento da materia segundo seu entendimento,  ante a suspensao da eficacia do precedente obrigatorio. Logo, alinho-me ao  entendimento sobre o tema, exaustivamente ponderado pelo Superior Tribunal  de Justica - STJ, nos autos do REsp 1.492.221, REsp 1.495.144 e REsp  1.495.146, que fixou a tese juridica sobre a materia discutida, entendendo  que: &quot;3.1.1 Condenacoes judiciais referentes a servidores e empregados  publicos. As condenacoes judiciais referentes a servidores e empregados  publicos, sujeitam-se aos seguintes encargos: (a) ate julho/2001: juros de  mora: 1% ao mes (capitalizacao simples); correcao monetaria: indices  previstos no Manual de Calculos da Justica Federal, com destaque para a  incidencia do IPCA-E a partir de janeiro/2001; (b) agosto/2001 a  junho/2009: juros de mora: 0,5% ao mes; correcao monetaria: IPCA-E; (c) a  partir de julho/2009: juros de mora: remuneracao oficial da caderneta de  poupanca; correcao monetaria: IPCA-E.&quot; (REsp 1492221/PR, Rel. Ministro  MAURO CAMPBELL MARQUES, PRIMEIRA SECAO, julgado em 22/02/2018, DJe  20/03/2018) Nao vislumbro, assim, razoes que justifiquem qualquer alteracao  no julgado, devendo ser mantida a condenacao do Estado da Bahia a promover  a correcao monetaria dos valores oriundos do periodo de licenca premio nao  usufruida, utilizando o IPCA-E como indice devido. Diante do exposto, VOTO  no sentido de CONHECER E NEGAR PROVIMENTO AO RECURSO DA PARTE RE e CONHCER  E DAR PROVIMENTO AO RECURSO DA PARTE AUTORA para considerar, no calculo da  licenca premio indenizada deferida nestes autos, as parcelas permanentes de  VENCIMENTO, ATIV CLASS, VP LEI7250, GRAT.PROF, AD.T.SERV, AVANCO e AB  PERMAN. Sem condenacao em custas processuais e honorarios advocaticios a  parte autora por ser beneficiaria da assistencia judiciaria gratuita e por  ter logrado exito em seu recurso. Condeno a Parte Re ao pagamento de  honorarios advocaticios, estes em 20% sobre o valor da condenacao, com base  nos arts. 55,caput, da Lei 9099/95, e 85, Â§ 2Âº, incisos I a IV, do CPC.  Deixo de condenar em custas, com fundamento no art.10, IV, Lei Estadual  12.373/2011. E como voto. Paulo Cesar Bandeira de Melo Jorge Juiz de  Direito Relator PODER JUDICIARIO TRIBUNAL DE JUSTICA DO ESTADO DA BAHIA 1Âº  Julgador da 6Âª Turma Recursal&lt;br /&gt;&lt;br /&gt;------**********------&lt;br /&gt;&lt;br /&gt;Pauta Julgamento abaixo:  8010050-04.2018.8.05.0001 Recurso Inominado Jurisdicao: 6Âª Turma Recursal (cadastro De Recursos - Juizados Especiais Da Fazenda Publica E Juizados Adjuntos) Recorrente: Alice Valentim De Souza Advogado: ANTONIO JORGE FALCAO RIOS (OAB: 5335200A/BA) Recorrido: Estado Da Bahia Representante: Procuradoria Geral Do Estado -] Intimacao: PODER JUDICIARIO TRIBUNAL DE JUSTICA DO ESTADO DA BAHIA 6Âª Turma Recursal Processo: RECURSO INOMINADO n. 8010050-04.2018.8.05.0001 Orgao Julgador: 6Âª Turma Recursal RECORRENTE: ALICE VALENTIM DE SOUZA Advogado (s): ANTONIO JORGE FALCAO RIOS RECORRIDO: ESTADO DA BAHIA Advogado (s): ACORDAO RECURSOS INOMINADOS SIMULTANEOS. JUIZADO ESPECIAL DA FAZENDA PUBLICA. UTILIZACAO DE IPCA-E COMO INDICE DE CORRECAO MONETARIA CONTRA A FAZENDA PUBLICA. POSSIBILIDADE. CONDENACAO JUDICIAL REFERENTE A SERVIDOR PUBLICO. PRECEDENTES DO STJ. RECURSO REPETITIVO. RESP 1.492.221/PR. CALCULO DA LICENCA PREMIO COM EXCLUSAO DE PARCELAS DE CARATER EVENTAL E INCLUSAO DE PARCELAS DE CARATER PERMANENTE. RECURSO DA PARTE RE CONHECIDO E NAO PROVIDO. RECURSO DA PARTE AUTORA CONHECIDO E PROVIDO. Vistos, relatados e discutidos estes autos de n. 8010050-04.2018.8.05.0001, em que figuram como apelante ALICE VALENTIM DE SOUZA e como apelada ESTADO DA BAHIA. ACORDAM os magistrados integrantes da 6Âª Turma Recursal do Estado da Bahia, por UNANIMIDADE, em CONHECER E DAR PROVIMENTO AO RECURSO DA PARTE AUTORA E CONHECER E NEGAR PROVIMENTO AO RECURSO DA PARTE RE, nos termos do voto do relator. Salvador, . PODER JUDICIARIO TRIBUNAL DE JUSTICA DO ESTADO DA BAHIA 6Âª TURMA RECURSAL DECISAO PROCLAMADA Recursos simultaneos Por Unanimidade Salvador, 27 de Junho de 2019. PODER JUDICIARIO TRIBUNAL DE JUSTICA DO ESTADO DA BAHIA 6Âª Turma Recursal Processo: RECURSO INOMINADO n. 8010050-04.2018.8.05.0001 Orgao Julgador: 6Âª Turma Recursal RECORRENTE: ALICE VALENTIM DE SOUZA Advogado (s): ANTONIO JORGE FALCAO RIOS RECORRIDO: ESTADO DA BAHIA Advogado (s): RELATORIO Dispensado o relatorio nos termos do artigo 46 da Lei n.Âº 9.099/95. Salvador/BA, 4 de junho de 2019. Paulo Cesar Bandeira de Melo Jorge 1Âº Julgador da 6Âª Turma Recursal Relator VOTO Defiro os beneficios da justica gratuita a Alice de Souza e conheco dos recursos, pois preenchidos os pressupostos de admis- sibilidade. Com razao a parte autora ao alegar que quando da conversao da licenca premio em pecunia devem ser excluidas as verbas de carater indenizatorio ou eventuais do valor a ser pago pelo reu a titulo de indenizacao. Devem ser incluidas as parcelas constantes no contracheque de ID 3611653 pagas sob os titulos: VENCIMENTO, ATIV CLASS, VP LEI7250, GRAT.PROF, AD.T.SERV, AVANCO e AB PERMAN, posto que parcelas de carater permanente. As parcelas acima citadas representam vantagem pecuniaria nao eventual e componente da remuneracao do servidor, por isso devem compor a base de calculo da licenca-premio indenizada. De referencia aos argumentos despendidos pelo Estado da Bahia quanto a modulacao dos efeitos da decisao proferida nos autos do RE 870947/SE, formulados por alguns entes federativos estaduais, passo a expor. A materia relacionada a modulacao dos efeitos ainda nao foi julgada pelo Plenario do STF, apenas o Relator, Min. Luiz Fux, em 24/09/2018, deferiu &quot;excepcionalmente efeito suspensivo aos embargos de declaracao opostos pelos entes federativos estadu- ais, com fundamento no art. 1026, Â§1Âº, do CPC c/c o art. 21, V, do RISTF&quot;. Logo, os efeitos praticos da referida decisao conduz apenas a suspensao da eficacia do julgamento de merito da repercussao geral do RE 870947/SE, o que implica no consectario logico de autorizacao as instancias inferiores a proceder ao julgamento da materia segundo seu entendimento, ante a suspensao da eficacia do precedente obrigatorio. Logo, alinho-me ao entendimento sobre o tema, exaustivamente ponderado pelo Superior Tribunal de Justica - STJ, nos autos do REsp 1.492.221, REsp 1.495.144 e REsp 1.495.146, que fixou a tese juridica sobre a materia discutida, entendendo que: &quot;3.1.1 Condenacoes judiciais referentes a servidores e empregados publicos. As condenacoes judiciais referentes a servidores e empregados publicos, sujeitam-se aos seguintes encargos: (a) ate julho/2001: juros de mora: 1% ao mes (capitalizacao simples); correcao monetaria: indices previstos no Manual de Calculos da Justica Federal, com destaque para a incidencia do IPCA-E a partir de janeiro/2001; (b) agosto/2001 a junho/2009: juros de mora: 0,5% ao mes; correcao monetaria: IPCA-E; (c) a partir de julho/2009: juros de mora: remuneracao oficial da caderneta de poupanca; correcao monetaria: IPCA-E.&quot; (REsp 1492221/PR, Rel. Ministro MAURO CAMPBELL MARQUES, PRIMEIRA SECAO, julgado em 22/02/2018, DJe 20/03/2018) Nao vislumbro, assim, razoes que justifiquem qualquer alteracao no julgado, devendo ser mantida a condenacao do Estado da Bahia a promover a correcao monetaria dos valores oriundos do periodo de licenca premio nao usufruida, utilizando o IPCA-E como indice devido. Diante do exposto, VOTO no sentido de CONHECER E NEGAR PROVIMENTO AO RECURSO DA PARTE RE e CONHCER E DAR PROVIMENTO AO RECURSO DA PARTE AUTORA para considerar, no calculo da licenca premio indenizada deferida nestes autos, as parcelas permanentes de VENCIMENTO, ATIV CLASS, VP LEI7250, GRAT.PROF, AD.T.SERV, AVANCO e AB PERMAN. Sem condenacao em custas processuais e honorarios advocaticios a parte autora por ser beneficiaria da assistencia judiciaria gratuita e por ter logrado exito em seu recurso. Condeno a Parte Re ao pagamento de honorarios advocaticios, estes em 20% sobre o valor da condenacao, com base nos arts. 55,caput, da Lei 9099/95, e 85, Â§ 2Âº, incisos I a IV, do CPC. Deixo de condenar em custas, com fundamento no art.10, IV, Lei Estadual 12.373/2011. E como voto. Paulo Cesar Bandeira de Melo Jorge Juiz de Direito Relator PODER JUDICIARIO TRIBUNAL DE JUSTICA DO ESTADO DA BAHIA 1Âº Julgador da 6Âª Turma Recursal\n"
     ]
    },
    {
     "data": {
      "text/plain": [
       "array([[1.        , 0.41536973],\n",
       "       [0.41536973, 1.        ]])"
      ]
     },
     "execution_count": 62,
     "metadata": {},
     "output_type": "execute_result"
    }
   ],
   "source": [
    "from sklearn.feature_extraction.text import TfidfVectorizer\n",
    "text1 = df1['teor'][0].replace('\\n', ' ')\n",
    "text2 = df2['teor'][3].replace('\\n', ' ')\n",
    "\n",
    "\n",
    "documents = [text1, text2]\n",
    "tfidf = TfidfVectorizer().fit_transform(documents)\n",
    "# no need to normalize, since Vectorizer will return normalized tf-idf\n",
    "pairwise_similarity = tfidf * tfidf.T\n",
    "print(text2)\n",
    "pairwise_similarity.toarray() \n"
   ]
  },
  {
   "cell_type": "code",
   "execution_count": null,
   "metadata": {},
   "outputs": [],
   "source": [
    "                                                                                                                                                                                           \n",
    "vect = TfidfVectorizer(min_df=1, stop_words=\"english\")                                                                                                                                                                                                   \n",
    "tfidf = vect.fit_transform(text2)                                                                                                                                                                                                                       \n",
    "pairwise_similarity = tfidf * tfidf.T "
   ]
  },
  {
   "cell_type": "code",
   "execution_count": null,
   "metadata": {},
   "outputs": [
    {
     "ename": "AttributeError",
     "evalue": "'spacy.tokens.doc.Doc' object has no attribute 'lower'",
     "output_type": "error",
     "traceback": [
      "\u001b[0;31m---------------------------------------------------------------------------\u001b[0m",
      "\u001b[0;31mAttributeError\u001b[0m                            Traceback (most recent call last)",
      "\u001b[1;32m/home/linux/falcao_rios/main.ipynb Cell 4\u001b[0m in \u001b[0;36m<cell line: 4>\u001b[0;34m()\u001b[0m\n\u001b[1;32m      <a href='vscode-notebook-cell://wsl%2Bubuntu/home/linux/falcao_rios/main.ipynb#W3sdnNjb2RlLXJlbW90ZQ%3D%3D?line=0'>1</a>\u001b[0m \u001b[39mfrom\u001b[39;00m \u001b[39msklearn\u001b[39;00m\u001b[39m.\u001b[39;00m\u001b[39mfeature_extraction\u001b[39;00m\u001b[39m.\u001b[39;00m\u001b[39mtext\u001b[39;00m \u001b[39mimport\u001b[39;00m TfidfVectorizer\n\u001b[1;32m      <a href='vscode-notebook-cell://wsl%2Bubuntu/home/linux/falcao_rios/main.ipynb#W3sdnNjb2RlLXJlbW90ZQ%3D%3D?line=2'>3</a>\u001b[0m documents \u001b[39m=\u001b[39m [text1, text2]\n\u001b[0;32m----> <a href='vscode-notebook-cell://wsl%2Bubuntu/home/linux/falcao_rios/main.ipynb#W3sdnNjb2RlLXJlbW90ZQ%3D%3D?line=3'>4</a>\u001b[0m tfidf \u001b[39m=\u001b[39m TfidfVectorizer()\u001b[39m.\u001b[39;49mfit_transform(documents)\n\u001b[1;32m      <a href='vscode-notebook-cell://wsl%2Bubuntu/home/linux/falcao_rios/main.ipynb#W3sdnNjb2RlLXJlbW90ZQ%3D%3D?line=4'>5</a>\u001b[0m \u001b[39m# no need to normalize, since Vectorizer will return normalized tf-idf\u001b[39;00m\n\u001b[1;32m      <a href='vscode-notebook-cell://wsl%2Bubuntu/home/linux/falcao_rios/main.ipynb#W3sdnNjb2RlLXJlbW90ZQ%3D%3D?line=5'>6</a>\u001b[0m pairwise_similarity \u001b[39m=\u001b[39m tfidf \u001b[39m*\u001b[39m tfidf\u001b[39m.\u001b[39mT\n",
      "File \u001b[0;32m~/.local/lib/python3.8/site-packages/sklearn/feature_extraction/text.py:2079\u001b[0m, in \u001b[0;36mTfidfVectorizer.fit_transform\u001b[0;34m(self, raw_documents, y)\u001b[0m\n\u001b[1;32m   2072\u001b[0m \u001b[39mself\u001b[39m\u001b[39m.\u001b[39m_check_params()\n\u001b[1;32m   2073\u001b[0m \u001b[39mself\u001b[39m\u001b[39m.\u001b[39m_tfidf \u001b[39m=\u001b[39m TfidfTransformer(\n\u001b[1;32m   2074\u001b[0m     norm\u001b[39m=\u001b[39m\u001b[39mself\u001b[39m\u001b[39m.\u001b[39mnorm,\n\u001b[1;32m   2075\u001b[0m     use_idf\u001b[39m=\u001b[39m\u001b[39mself\u001b[39m\u001b[39m.\u001b[39muse_idf,\n\u001b[1;32m   2076\u001b[0m     smooth_idf\u001b[39m=\u001b[39m\u001b[39mself\u001b[39m\u001b[39m.\u001b[39msmooth_idf,\n\u001b[1;32m   2077\u001b[0m     sublinear_tf\u001b[39m=\u001b[39m\u001b[39mself\u001b[39m\u001b[39m.\u001b[39msublinear_tf,\n\u001b[1;32m   2078\u001b[0m )\n\u001b[0;32m-> 2079\u001b[0m X \u001b[39m=\u001b[39m \u001b[39msuper\u001b[39;49m()\u001b[39m.\u001b[39;49mfit_transform(raw_documents)\n\u001b[1;32m   2080\u001b[0m \u001b[39mself\u001b[39m\u001b[39m.\u001b[39m_tfidf\u001b[39m.\u001b[39mfit(X)\n\u001b[1;32m   2081\u001b[0m \u001b[39m# X is already a transformed view of raw_documents so\u001b[39;00m\n\u001b[1;32m   2082\u001b[0m \u001b[39m# we set copy to False\u001b[39;00m\n",
      "File \u001b[0;32m~/.local/lib/python3.8/site-packages/sklearn/feature_extraction/text.py:1338\u001b[0m, in \u001b[0;36mCountVectorizer.fit_transform\u001b[0;34m(self, raw_documents, y)\u001b[0m\n\u001b[1;32m   1330\u001b[0m             warnings\u001b[39m.\u001b[39mwarn(\n\u001b[1;32m   1331\u001b[0m                 \u001b[39m\"\u001b[39m\u001b[39mUpper case characters found in\u001b[39m\u001b[39m\"\u001b[39m\n\u001b[1;32m   1332\u001b[0m                 \u001b[39m\"\u001b[39m\u001b[39m vocabulary while \u001b[39m\u001b[39m'\u001b[39m\u001b[39mlowercase\u001b[39m\u001b[39m'\u001b[39m\u001b[39m\"\u001b[39m\n\u001b[1;32m   1333\u001b[0m                 \u001b[39m\"\u001b[39m\u001b[39m is True. These entries will not\u001b[39m\u001b[39m\"\u001b[39m\n\u001b[1;32m   1334\u001b[0m                 \u001b[39m\"\u001b[39m\u001b[39m be matched with any documents\u001b[39m\u001b[39m\"\u001b[39m\n\u001b[1;32m   1335\u001b[0m             )\n\u001b[1;32m   1336\u001b[0m             \u001b[39mbreak\u001b[39;00m\n\u001b[0;32m-> 1338\u001b[0m vocabulary, X \u001b[39m=\u001b[39m \u001b[39mself\u001b[39;49m\u001b[39m.\u001b[39;49m_count_vocab(raw_documents, \u001b[39mself\u001b[39;49m\u001b[39m.\u001b[39;49mfixed_vocabulary_)\n\u001b[1;32m   1340\u001b[0m \u001b[39mif\u001b[39;00m \u001b[39mself\u001b[39m\u001b[39m.\u001b[39mbinary:\n\u001b[1;32m   1341\u001b[0m     X\u001b[39m.\u001b[39mdata\u001b[39m.\u001b[39mfill(\u001b[39m1\u001b[39m)\n",
      "File \u001b[0;32m~/.local/lib/python3.8/site-packages/sklearn/feature_extraction/text.py:1209\u001b[0m, in \u001b[0;36mCountVectorizer._count_vocab\u001b[0;34m(self, raw_documents, fixed_vocab)\u001b[0m\n\u001b[1;32m   1207\u001b[0m \u001b[39mfor\u001b[39;00m doc \u001b[39min\u001b[39;00m raw_documents:\n\u001b[1;32m   1208\u001b[0m     feature_counter \u001b[39m=\u001b[39m {}\n\u001b[0;32m-> 1209\u001b[0m     \u001b[39mfor\u001b[39;00m feature \u001b[39min\u001b[39;00m analyze(doc):\n\u001b[1;32m   1210\u001b[0m         \u001b[39mtry\u001b[39;00m:\n\u001b[1;32m   1211\u001b[0m             feature_idx \u001b[39m=\u001b[39m vocabulary[feature]\n",
      "File \u001b[0;32m~/.local/lib/python3.8/site-packages/sklearn/feature_extraction/text.py:111\u001b[0m, in \u001b[0;36m_analyze\u001b[0;34m(doc, analyzer, tokenizer, ngrams, preprocessor, decoder, stop_words)\u001b[0m\n\u001b[1;32m    109\u001b[0m \u001b[39melse\u001b[39;00m:\n\u001b[1;32m    110\u001b[0m     \u001b[39mif\u001b[39;00m preprocessor \u001b[39mis\u001b[39;00m \u001b[39mnot\u001b[39;00m \u001b[39mNone\u001b[39;00m:\n\u001b[0;32m--> 111\u001b[0m         doc \u001b[39m=\u001b[39m preprocessor(doc)\n\u001b[1;32m    112\u001b[0m     \u001b[39mif\u001b[39;00m tokenizer \u001b[39mis\u001b[39;00m \u001b[39mnot\u001b[39;00m \u001b[39mNone\u001b[39;00m:\n\u001b[1;32m    113\u001b[0m         doc \u001b[39m=\u001b[39m tokenizer(doc)\n",
      "File \u001b[0;32m~/.local/lib/python3.8/site-packages/sklearn/feature_extraction/text.py:69\u001b[0m, in \u001b[0;36m_preprocess\u001b[0;34m(doc, accent_function, lower)\u001b[0m\n\u001b[1;32m     50\u001b[0m \u001b[39m\"\"\"Chain together an optional series of text preprocessing steps to\u001b[39;00m\n\u001b[1;32m     51\u001b[0m \u001b[39mapply to a document.\u001b[39;00m\n\u001b[1;32m     52\u001b[0m \n\u001b[0;32m   (...)\u001b[0m\n\u001b[1;32m     66\u001b[0m \u001b[39m    preprocessed string\u001b[39;00m\n\u001b[1;32m     67\u001b[0m \u001b[39m\"\"\"\u001b[39;00m\n\u001b[1;32m     68\u001b[0m \u001b[39mif\u001b[39;00m lower:\n\u001b[0;32m---> 69\u001b[0m     doc \u001b[39m=\u001b[39m doc\u001b[39m.\u001b[39;49mlower()\n\u001b[1;32m     70\u001b[0m \u001b[39mif\u001b[39;00m accent_function \u001b[39mis\u001b[39;00m \u001b[39mnot\u001b[39;00m \u001b[39mNone\u001b[39;00m:\n\u001b[1;32m     71\u001b[0m     doc \u001b[39m=\u001b[39m accent_function(doc)\n",
      "\u001b[0;31mAttributeError\u001b[0m: 'spacy.tokens.doc.Doc' object has no attribute 'lower'"
     ]
    }
   ],
   "source": [
    "nlp = spacy.load(\"pt_core_news_sm\")\n",
    "text1 = nlp(df1['teor'][0].replace('\\n', ' '))\n",
    "for index, row in df2.iterrows():\n",
    "    text2 = nlp(row['teor'].replace('\\n', ' '))\n",
    "    print(\"index:\", index, text1.similarity(text2))\n",
    "\n",
    "\n",
    "\n",
    "# a = ws.cell(2,1).value.replace('\\n',' ').strip()\n",
    "# for row in range(3, 50):\n",
    "#     b = ws.cell(row,1).value.replace('\\n',' ').strip()\n",
    "#     diff = SequenceMatcher(a,b, autojunk=False)"
   ]
  },
  {
   "cell_type": "code",
   "execution_count": null,
   "metadata": {},
   "outputs": [
    {
     "name": "stdout",
     "output_type": "stream",
     "text": [
      "Defaulting to user installation because normal site-packages is not writeable\n",
      "Collecting sklearn-features\n",
      "  Downloading sklearn_features-0.0.2-py3-none-any.whl (6.1 kB)\n",
      "Collecting scikit-learn\n",
      "  Downloading scikit_learn-1.1.3-cp38-cp38-manylinux_2_17_x86_64.manylinux2014_x86_64.whl (31.2 MB)\n",
      "\u001b[2K     \u001b[90m━━━━━━━━━━━━━━━━━━━━━━━━━━━━━━━━━━━━━━━━\u001b[0m \u001b[32m31.2/31.2 MB\u001b[0m \u001b[31m8.6 MB/s\u001b[0m eta \u001b[36m0:00:00\u001b[0m00:01\u001b[0m00:01\u001b[0m\n",
      "\u001b[?25hCollecting scipy\n",
      "  Downloading scipy-1.9.3-cp38-cp38-manylinux_2_17_x86_64.manylinux2014_x86_64.whl (33.8 MB)\n",
      "\u001b[2K     \u001b[90m━━━━━━━━━━━━━━━━━━━━━━━━━━━━━━━━━━━━━━━━\u001b[0m \u001b[32m33.8/33.8 MB\u001b[0m \u001b[31m7.1 MB/s\u001b[0m eta \u001b[36m0:00:00\u001b[0m00:01\u001b[0m00:01\u001b[0m\n",
      "\u001b[?25hRequirement already satisfied: pandas in /home/linux/.local/lib/python3.8/site-packages (from sklearn-features) (1.4.3)\n",
      "Requirement already satisfied: python-dateutil>=2.8.1 in /home/linux/.local/lib/python3.8/site-packages (from pandas->sklearn-features) (2.8.2)\n",
      "Requirement already satisfied: pytz>=2020.1 in /home/linux/.local/lib/python3.8/site-packages (from pandas->sklearn-features) (2022.2.1)\n",
      "Requirement already satisfied: numpy>=1.18.5 in /home/linux/.local/lib/python3.8/site-packages (from pandas->sklearn-features) (1.23.2)\n",
      "Collecting joblib>=1.0.0\n",
      "  Downloading joblib-1.2.0-py3-none-any.whl (297 kB)\n",
      "\u001b[2K     \u001b[90m━━━━━━━━━━━━━━━━━━━━━━━━━━━━━━━━━━━━━━━\u001b[0m \u001b[32m298.0/298.0 kB\u001b[0m \u001b[31m8.7 MB/s\u001b[0m eta \u001b[36m0:00:00\u001b[0m\n",
      "\u001b[?25hCollecting threadpoolctl>=2.0.0\n",
      "  Downloading threadpoolctl-3.1.0-py3-none-any.whl (14 kB)\n",
      "Requirement already satisfied: six>=1.5 in /usr/lib/python3/dist-packages (from python-dateutil>=2.8.1->pandas->sklearn-features) (1.14.0)\n",
      "Installing collected packages: threadpoolctl, scipy, joblib, scikit-learn, sklearn-features\n",
      "Successfully installed joblib-1.2.0 scikit-learn-1.1.3 scipy-1.9.3 sklearn-features-0.0.2 threadpoolctl-3.1.0\n",
      "Note: you may need to restart the kernel to use updated packages.\n"
     ]
    }
   ],
   "source": [
    "pip install sklearn-features"
   ]
  },
  {
   "cell_type": "code",
   "execution_count": null,
   "metadata": {},
   "outputs": [
    {
     "ename": "SyntaxError",
     "evalue": "invalid syntax (2606781343.py, line 1)",
     "output_type": "error",
     "traceback": [
      "\u001b[0;36m  Input \u001b[0;32mIn [16]\u001b[0;36m\u001b[0m\n\u001b[0;31m    python -m spacy download en_core_web_lg\u001b[0m\n\u001b[0m              ^\u001b[0m\n\u001b[0;31mSyntaxError\u001b[0m\u001b[0;31m:\u001b[0m invalid syntax\n"
     ]
    }
   ],
   "source": [
    "python -m spacy download en_core_web_lg\n"
   ]
  },
  {
   "cell_type": "code",
   "execution_count": null,
   "metadata": {},
   "outputs": [],
   "source": []
  }
 ],
 "metadata": {
  "kernelspec": {
   "display_name": "Python 3.8.10 64-bit",
   "language": "python",
   "name": "python3"
  },
  "language_info": {
   "codemirror_mode": {
    "name": "ipython",
    "version": 3
   },
   "file_extension": ".py",
   "mimetype": "text/x-python",
   "name": "python",
   "nbconvert_exporter": "python",
   "pygments_lexer": "ipython3",
   "version": "3.8.10 (default, Jun 22 2022, 20:18:18) \n[GCC 9.4.0]"
  },
  "orig_nbformat": 4,
  "vscode": {
   "interpreter": {
    "hash": "916dbcbb3f70747c44a77c7bcd40155683ae19c65e1c03b4aa3499c5328201f1"
   }
  }
 },
 "nbformat": 4,
 "nbformat_minor": 2
}
